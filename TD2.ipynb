{
  "nbformat": 4,
  "nbformat_minor": 0,
  "metadata": {
    "colab": {
      "name": "TD2.ipynb",
      "provenance": [],
      "collapsed_sections": [],
      "include_colab_link": true
    },
    "kernelspec": {
      "name": "python3",
      "display_name": "Python 3"
    }
  },
  "cells": [
    {
      "cell_type": "markdown",
      "metadata": {
        "id": "view-in-github",
        "colab_type": "text"
      },
      "source": [
        "<a href=\"https://colab.research.google.com/github/liviator/Programmation_blockchain_td2/blob/main/TD2.ipynb\" target=\"_parent\"><img src=\"https://colab.research.google.com/assets/colab-badge.svg\" alt=\"Open In Colab\"/></a>"
      ]
    },
    {
      "cell_type": "code",
      "metadata": {
        "id": "1PamMk-FSLIZ"
      },
      "source": [
        "import secrets\r\n",
        "import hashlib\r\n",
        "import hmac\r\n",
        "import subprocess"
      ],
      "execution_count": null,
      "outputs": []
    },
    {
      "cell_type": "code",
      "metadata": {
        "id": "utnqBGZ7RcOb"
      },
      "source": [
        "def check_entropy():\r\n",
        "    words = []\r\n",
        "    print(\"Please type the words of your seed\")\r\n",
        "    for i in range(12):\r\n",
        "        word = input()\r\n",
        "        words.append(word)\r\n",
        "        if i == 0 and len(word.split()) == 12:\r\n",
        "          words = word.split()\r\n",
        "          break\r\n",
        "    entropy = check_format(words)\r\n",
        "    if entropy == -1:\r\n",
        "      print(\"The seed is not valid\")\r\n",
        "    else:\r\n",
        "      print(\"The entropy is \" + entropy)\r\n",
        "    print(\"\")\r\n",
        "    return entropy"
      ],
      "execution_count": null,
      "outputs": []
    },
    {
      "cell_type": "code",
      "metadata": {
        "id": "puOMA2gIReTK"
      },
      "source": [
        "def check_format(words):\r\n",
        "    response = -1\r\n",
        "    splitted = get_bag(words)\r\n",
        "    united = ''.join(splitted)\r\n",
        "    check_sum = united[len(united)-4:]\r\n",
        "    entropy = united[:len(united)-4]\r\n",
        "    if(len(entropy) == 128):       \r\n",
        "        encoded_entropy_bits = int(entropy,2).to_bytes(128 // 8, byteorder='big')\r\n",
        "        hashed_entropy = hashlib.sha256(encoded_entropy_bits)\r\n",
        "        output = hashed_entropy.hexdigest()\r\n",
        "        output = format(int(output,16),'0256b')\r\n",
        "        if(output[:4] == check_sum):\r\n",
        "            response = entropy\r\n",
        "    return response\r\n",
        " "
      ],
      "execution_count": null,
      "outputs": []
    },
    {
      "cell_type": "code",
      "metadata": {
        "id": "LRma0HliToTZ"
      },
      "source": [
        "def get_bag(words):\r\n",
        "    bag = []\r\n",
        "    list_of_words = get_words()\r\n",
        "    index = 0\r\n",
        "    for elem in words:\r\n",
        "        if( elem in list_of_words):\r\n",
        "            index = list_of_words.index(elem)\r\n",
        "            bag.append(format(index,'011b'))\r\n",
        "    return bag"
      ],
      "execution_count": null,
      "outputs": []
    },
    {
      "cell_type": "code",
      "metadata": {
        "id": "o0bJEQSeSDJF"
      },
      "source": [
        "def gen_entropy(size = 128):\r\n",
        "  entropy = secrets.randbits(size)\r\n",
        "  print(\"Random number :\")\r\n",
        "  print(entropy)\r\n",
        "  print(\" \")\r\n",
        "  return add_padding(entropy)"
      ],
      "execution_count": 121,
      "outputs": []
    },
    {
      "cell_type": "code",
      "metadata": {
        "id": "9WBI_GrpLxLg"
      },
      "source": [
        "def add_padding(entropy):\r\n",
        "  entropy_bits = format(entropy,'0128b')\r\n",
        "  print(\"Random number in binary :\")\r\n",
        "  print(entropy_bits)\r\n",
        "  print(\" \")\r\n",
        "  return entropy_bits"
      ],
      "execution_count": null,
      "outputs": []
    },
    {
      "cell_type": "code",
      "metadata": {
        "id": "RTIG2H7LMb-Q"
      },
      "source": [
        "def gen_checksum(entropy_bits):\r\n",
        "  encoded_entropy_bits = int(entropy_bits,2).to_bytes(128 // 8, byteorder='big')\r\n",
        "  hashed_entropy = hashlib.sha256(encoded_entropy_bits)\r\n",
        "  output = hashed_entropy.hexdigest()\r\n",
        "  output = format(int(output,16),'0256b')\r\n",
        "  print(\"Output of the hash in binary :\")\r\n",
        "  print(output)\r\n",
        "  print(\" \")\r\n",
        "  return output"
      ],
      "execution_count": null,
      "outputs": []
    },
    {
      "cell_type": "code",
      "metadata": {
        "id": "koqJZLnYM_8k"
      },
      "source": [
        "def add_checksum_to_entropy(entropy):\r\n",
        "  entropy_bits_finale = entropy + gen_checksum(entropy)[:4]\r\n",
        "  print(\"Entropy + Checksum :\")\r\n",
        "  print(entropy_bits_finale + \"\\n\")\r\n",
        "  return entropy_bits_finale"
      ],
      "execution_count": null,
      "outputs": []
    },
    {
      "cell_type": "code",
      "metadata": {
        "id": "lr-p-CVyQtqA"
      },
      "source": [
        "def get_words():\r\n",
        "  return open('/content/words.txt','r').read().splitlines()"
      ],
      "execution_count": null,
      "outputs": []
    },
    {
      "cell_type": "code",
      "metadata": {
        "id": "meEOwKXV9SVY"
      },
      "source": [
        "def get_list_of_words(bag):\r\n",
        "  list_of_words = []\r\n",
        "  words = get_words()\r\n",
        "  for element in bag:\r\n",
        "    list_of_words.append(words[int(element,2)])\r\n",
        "  return list_of_words"
      ],
      "execution_count": null,
      "outputs": []
    },
    {
      "cell_type": "code",
      "metadata": {
        "id": "TvcM6Qg5Ohr-"
      },
      "source": [
        "def split_entropy_bits_finale(entropy_bits_finale):\r\n",
        "  binary_seed_phrase = []\r\n",
        "  i= 0\r\n",
        "  while i < 132:\r\n",
        "      binary_seed_phrase.append(entropy_bits_finale[i:i+11])\r\n",
        "      i = i + 11\r\n",
        "  print(\"Splitted :\")\r\n",
        "  print(binary_seed_phrase)\r\n",
        "  print(\"\")\r\n",
        "  return binary_seed_phrase"
      ],
      "execution_count": null,
      "outputs": []
    },
    {
      "cell_type": "code",
      "metadata": {
        "id": "dZK29fv8x8pQ"
      },
      "source": [
        "def gen_root_seed(seed_phrase):\r\n",
        "  seed_phrase_bytes = seed_phrase.encode(\"utf-8\")\r\n",
        "  salt = \"mnemonic\".encode(\"utf-8\")\r\n",
        "  root_seed = hashlib.pbkdf2_hmac(\r\n",
        "      \"sha512\", seed_phrase_bytes, salt, 2048\r\n",
        "  )\r\n",
        "  print(\"Root seed :\")\r\n",
        "  print(root_seed.hex())\r\n",
        "  print(\"\")\r\n",
        "  return root_seed"
      ],
      "execution_count": null,
      "outputs": []
    },
    {
      "cell_type": "code",
      "metadata": {
        "id": "hsL1ehjuU8K6"
      },
      "source": [
        "def hmac_sha512(root_seed):\r\n",
        "  hashed_root_seed = hmac.new(b\"Bitcoin seed\", root_seed, digestmod = hashlib.sha512).hexdigest()\r\n",
        "  # hashed_root_seed = format(int(hashed_root_seed,16),'0256b')\r\n",
        "  print(\"Output of the master private key in binary :\")\r\n",
        "  print(hashed_root_seed[:64])\r\n",
        "  print(\"Output of the master chain code in binary :\")\r\n",
        "  print(hashed_root_seed[64:])\r\n",
        "  print(\" \")\r\n",
        "  return hashed_root_seed[:64], hashed_root_seed[64:]"
      ],
      "execution_count": null,
      "outputs": []
    },
    {
      "cell_type": "code",
      "metadata": {
        "id": "bUOZAwbFOMRR"
      },
      "source": [
        "def gen_seed_phrase(entropy):\r\n",
        "  binary_seed_phrase = split_entropy_bits_finale(add_checksum_to_entropy(entropy))\r\n",
        "  seed_phrase = get_list_of_words(binary_seed_phrase)\r\n",
        "  seed_phrase = \" \".join(seed_phrase)\r\n",
        "  print(\"list of words : \")\r\n",
        "  print(seed_phrase)\r\n",
        "  print(\"\")\r\n",
        "  return seed_phrase"
      ],
      "execution_count": null,
      "outputs": []
    },
    {
      "cell_type": "code",
      "metadata": {
        "id": "k_7GoZh6dh3n"
      },
      "source": [
        "def gen_child_pubkey(parent_key, parent_chain_code, index = None):\r\n",
        "  index_binary = \"\"\r\n",
        "  if index:\r\n",
        "    index_binary = format(index,'032b')\r\n",
        "  else:\r\n",
        "    index_binary = format(secrets.randbits(32),'032b')\r\n",
        "  elements = parent_key + parent_chain_code + index_binary\r\n",
        "  elements = elements.encode(\"utf-8\")\r\n",
        "  hashed_root_seed = hmac.new(b\"Bitcoin seed\", elements, digestmod = hashlib.sha512).hexdigest()\r\n",
        "  print(hashed_root_seed)\r\n",
        "  print(\"Output of the children private key in binary :\")\r\n",
        "  print(hashed_root_seed[:64])\r\n",
        "  print(\"Output of the children chain code in binary :\")\r\n",
        "  print(hashed_root_seed[64:])\r\n",
        "  print(\" \")\r\n",
        "  return hashed_root_seed[:64], hashed_root_seed[64:]\r\n"
      ],
      "execution_count": 125,
      "outputs": []
    },
    {
      "cell_type": "code",
      "metadata": {
        "id": "jLdqGXCXdjvg"
      },
      "source": [
        "def gen_children(parent_key, parent_chain_code, deriv, index = None):\r\n",
        "  if index:\r\n",
        "    index_binary = format(index,'032b')\r\n",
        "  else:\r\n",
        "    index_binary = format(secrets.randbits(32),'032b')\r\n",
        "  index_binary = format(index,'032b')\r\n",
        "  elements = parent_key + parent_chain_code + index_binary\r\n",
        "  elements = elements.encode(\"utf-8\")\r\n",
        "  hashed_root_seed = hmac.new(b\"Bitcoin seed\", elements, digestmod = hashlib.sha512).hexdigest()\r\n",
        "  key = hashed_root_seed[:64]\r\n",
        "  code = hashed_root_seed[64:]\r\n",
        "  while deriv > 0:\r\n",
        "    deriv = deriv-1\r\n",
        "    print('plus que ',deriv,'itération avant d atteindre la clé associé a la derrivation voulue')\r\n",
        "    return(gen_children(format(int(key,16),'0256b'),format(int(code,16),'0256b'),deriv,index))\r\n",
        "  print('l index de la clé est ', index)\r\n",
        "  return(key,code)"
      ],
      "execution_count": 126,
      "outputs": []
    },
    {
      "cell_type": "code",
      "metadata": {
        "colab": {
          "base_uri": "https://localhost:8080/",
          "height": 1000
        },
        "id": "NxKgUmwkSUc5",
        "outputId": "3a121be7-1ed7-4840-8015-03bf455770fe"
      },
      "source": [
        "def main():\r\n",
        "  entropy = gen_entropy()\r\n",
        "  seed_phrase = gen_seed_phrase(entropy)\r\n",
        "  check_entropy()\r\n",
        "\r\n",
        "  master_private_key, master_chain_code = hmac_sha512(gen_root_seed(seed_phrase))\r\n",
        "  binary_master_private_key = format(int(master_private_key,16),'0256b')\r\n",
        "  binary_master_chain_code = format(int(master_chain_code,16),'0256b')\r\n",
        "\r\n",
        "  child_private_key, child_chain_code = gen_child_pubkey(binary_master_private_key, binary_master_chain_code)\r\n",
        "  print('A child private key is', child_private_key, end = '\\n\\n')\r\n",
        "\r\n",
        "  index = int(input('Please choose an integer between 0 and 4294967295 to generate a children : '))\r\n",
        "  child_private_key, child_chain_code = gen_child_pubkey(binary_master_private_key, binary_master_chain_code, index)\r\n",
        "  print('The child private key of index', index, ' is', child_private_key, end = '\\n\\n')\r\n",
        "\r\n",
        "  binary_master_private_key = format(int(master_private_key,16),'0256b')\r\n",
        "  binary_master_chain_code = format(int(master_chain_code,16),'0256b')\r\n",
        "  index = int(input('Please choose an integer between 0 and 4294967295 to generate a children : '))\r\n",
        "  deriv = int(input('Please choose an integer for the level of derivation : '))\r\n",
        "  child_private_key, child_chain_code = gen_child_pubkey(binary_master_private_key, binary_master_chain_code, deriv, index)\r\n",
        "  print('The child private key of index', index, ' and derivation', deriv, ' is', child_private_key, end = '\\n\\n')\r\n",
        "\r\n",
        "main()"
      ],
      "execution_count": 129,
      "outputs": [
        {
          "output_type": "stream",
          "text": [
            "Random number :\n",
            "130487633271635353347954927646630823985\n",
            " \n",
            "Random number in binary :\n",
            "01100010001010110000000100001000000010111000001000101010100011110110101011111010001010010100010010101101110011010100100000110001\n",
            " \n",
            "Output of the hash in binary :\n",
            "0100100011111111011000111001111011111111101000011010101100000011110110001101011110100001111101111000110100111111000010000000100011100100100111110110000100010010101010011000001001001001100111100010010001111001111010110000101110001000111111001001110001010010\n",
            " \n",
            "Entropy + Checksum :\n",
            "011000100010101100000001000010000000101110000010001010101000111101101010111110100010100101000100101011011100110101001000001100010100\n",
            "\n",
            "Splitted :\n",
            "['01100010001', '01011000000', '01000010000', '00010111000', '00100010101', '01000111101', '10101011111', '01000101001', '01000100101', '01101110011', '01010010000', '01100010100']\n",
            "\n",
            "list of words : \n",
            "giraffe fix dragon blade cargo element program early dwarf hover faith glad\n",
            "\n",
            "Please type the words of your seed\n",
            "giraffe fix dragon blade cargo element program early dwarf hover faith glad\n",
            "0100100011111111011000111001111011111111101000011010101100000011110110001101011110100001111101111000110100111111000010000000100011100100100111110110000100010010101010011000001001001001100111100010010001111001111010110000101110001000111111001001110001010010\n",
            "The checksum is the same, the seed is valid\n",
            "The entropy is 01100010001010110000000100001000000010111000001000101010100011110110101011111010001010010100010010101101110011010100100000110001\n",
            "\n",
            "Root seed :\n",
            "0c6094fe3d771279554aea22fc40791615f1f4dc94e4b9b569df910738c70b44b0ce3fa9676c8daae2f4e3b6c68b9654d5788f74da95010b705bf7071de782c0\n",
            "\n",
            "Output of the master private key in binary :\n",
            "fe9cdfd582c1c2ee25621bc3b311b428d6545156f8551b3caa87b62edd88c949\n",
            "Output of the master chain code in binary :\n",
            "ca640eb68cc098342e96ca4e951d4e95fa69ee4859100a248fc5e89f9ca21f5c\n",
            " \n",
            "85baa2572950169a803f744b84b12e9431d3426fbba1f992467a857f4512d35a7061fc998f1701b70f4ad7380a01cab777847c827b2e4d7e5e587c4876b316bf\n",
            "Output of the children private key in binary :\n",
            "85baa2572950169a803f744b84b12e9431d3426fbba1f992467a857f4512d35a\n",
            "Output of the children chain code in binary :\n",
            "7061fc998f1701b70f4ad7380a01cab777847c827b2e4d7e5e587c4876b316bf\n",
            " \n",
            "A child private key is 85baa2572950169a803f744b84b12e9431d3426fbba1f992467a857f4512d35a\n",
            "\n",
            "Please choose an integer between 0 and 4294967295 to generate a children : 2\n",
            "ee005e35bb7ec9df6226837a498f19b6590a905ed552198c9d082d9c05e0f59fc732810707e44cf957e7a462822705fca91be967c85ff5dca8f151ca66f26445\n",
            "Output of the children private key in binary :\n",
            "ee005e35bb7ec9df6226837a498f19b6590a905ed552198c9d082d9c05e0f59f\n",
            "Output of the children chain code in binary :\n",
            "c732810707e44cf957e7a462822705fca91be967c85ff5dca8f151ca66f26445\n",
            " \n",
            "The child private key of index 2  is ee005e35bb7ec9df6226837a498f19b6590a905ed552198c9d082d9c05e0f59f\n",
            "\n",
            "Please choose an integer between 0 and 4294967295 to generate a children : 2\n",
            "Please choose an integer for the level of derivation : 2\n"
          ],
          "name": "stdout"
        },
        {
          "output_type": "error",
          "ename": "TypeError",
          "evalue": "ignored",
          "traceback": [
            "\u001b[0;31m---------------------------------------------------------------------------\u001b[0m",
            "\u001b[0;31mTypeError\u001b[0m                                 Traceback (most recent call last)",
            "\u001b[0;32m<ipython-input-129-041510d6b99e>\u001b[0m in \u001b[0;36m<module>\u001b[0;34m()\u001b[0m\n\u001b[1;32m     22\u001b[0m   \u001b[0mprint\u001b[0m\u001b[0;34m(\u001b[0m\u001b[0;34m'The child private key of index'\u001b[0m\u001b[0;34m,\u001b[0m \u001b[0mindex\u001b[0m\u001b[0;34m,\u001b[0m \u001b[0;34m' and derivation'\u001b[0m\u001b[0;34m,\u001b[0m \u001b[0mderiv\u001b[0m\u001b[0;34m,\u001b[0m \u001b[0;34m' is'\u001b[0m\u001b[0;34m,\u001b[0m \u001b[0mchild_private_key\u001b[0m\u001b[0;34m,\u001b[0m \u001b[0mend\u001b[0m \u001b[0;34m=\u001b[0m \u001b[0;34m'\\n\\n'\u001b[0m\u001b[0;34m)\u001b[0m\u001b[0;34m\u001b[0m\u001b[0;34m\u001b[0m\u001b[0m\n\u001b[1;32m     23\u001b[0m \u001b[0;34m\u001b[0m\u001b[0m\n\u001b[0;32m---> 24\u001b[0;31m \u001b[0mmain\u001b[0m\u001b[0;34m(\u001b[0m\u001b[0;34m)\u001b[0m\u001b[0;34m\u001b[0m\u001b[0;34m\u001b[0m\u001b[0m\n\u001b[0m",
            "\u001b[0;32m<ipython-input-129-041510d6b99e>\u001b[0m in \u001b[0;36mmain\u001b[0;34m()\u001b[0m\n\u001b[1;32m     19\u001b[0m   \u001b[0mindex\u001b[0m \u001b[0;34m=\u001b[0m \u001b[0mint\u001b[0m\u001b[0;34m(\u001b[0m\u001b[0minput\u001b[0m\u001b[0;34m(\u001b[0m\u001b[0;34m'Please choose an integer between 0 and 4294967295 to generate a children : '\u001b[0m\u001b[0;34m)\u001b[0m\u001b[0;34m)\u001b[0m\u001b[0;34m\u001b[0m\u001b[0;34m\u001b[0m\u001b[0m\n\u001b[1;32m     20\u001b[0m   \u001b[0mderiv\u001b[0m \u001b[0;34m=\u001b[0m \u001b[0mint\u001b[0m\u001b[0;34m(\u001b[0m\u001b[0minput\u001b[0m\u001b[0;34m(\u001b[0m\u001b[0;34m'Please choose an integer for the level of derivation : '\u001b[0m\u001b[0;34m)\u001b[0m\u001b[0;34m)\u001b[0m\u001b[0;34m\u001b[0m\u001b[0;34m\u001b[0m\u001b[0m\n\u001b[0;32m---> 21\u001b[0;31m   \u001b[0mchild_private_key\u001b[0m\u001b[0;34m,\u001b[0m \u001b[0mchild_chain_code\u001b[0m \u001b[0;34m=\u001b[0m \u001b[0mgen_child_pubkey\u001b[0m\u001b[0;34m(\u001b[0m\u001b[0mbinary_master_private_key\u001b[0m\u001b[0;34m,\u001b[0m \u001b[0mbinary_master_chain_code\u001b[0m\u001b[0;34m,\u001b[0m \u001b[0mderiv\u001b[0m\u001b[0;34m,\u001b[0m \u001b[0mindex\u001b[0m\u001b[0;34m)\u001b[0m\u001b[0;34m\u001b[0m\u001b[0;34m\u001b[0m\u001b[0m\n\u001b[0m\u001b[1;32m     22\u001b[0m   \u001b[0mprint\u001b[0m\u001b[0;34m(\u001b[0m\u001b[0;34m'The child private key of index'\u001b[0m\u001b[0;34m,\u001b[0m \u001b[0mindex\u001b[0m\u001b[0;34m,\u001b[0m \u001b[0;34m' and derivation'\u001b[0m\u001b[0;34m,\u001b[0m \u001b[0mderiv\u001b[0m\u001b[0;34m,\u001b[0m \u001b[0;34m' is'\u001b[0m\u001b[0;34m,\u001b[0m \u001b[0mchild_private_key\u001b[0m\u001b[0;34m,\u001b[0m \u001b[0mend\u001b[0m \u001b[0;34m=\u001b[0m \u001b[0;34m'\\n\\n'\u001b[0m\u001b[0;34m)\u001b[0m\u001b[0;34m\u001b[0m\u001b[0;34m\u001b[0m\u001b[0m\n\u001b[1;32m     23\u001b[0m \u001b[0;34m\u001b[0m\u001b[0m\n",
            "\u001b[0;31mTypeError\u001b[0m: gen_child_pubkey() takes from 2 to 3 positional arguments but 4 were given"
          ]
        }
      ]
    },
    {
      "cell_type": "code",
      "metadata": {
        "id": "OoXoImFJemS-"
      },
      "source": [
        "cmd = ['bx', 'ec-to-public', 'b2a0d576b828b537688b561f2cfa8dac3602d54c62bde619ad5331e6c235ee26']\r\n",
        "proc = subprocess.Popen(cmd, stdout=subprocess.PIPE, stderr=subprocess.PIPE)\r\n",
        "\r\n",
        "o, e = proc.communicate()\r\n",
        "\r\n",
        "print('Output: ' + o.decode('ascii'))\r\n",
        "print('Error: '  + e.decode('ascii'))\r\n",
        "print('code: ' + str(proc.returncode))"
      ],
      "execution_count": null,
      "outputs": []
    }
  ]
}