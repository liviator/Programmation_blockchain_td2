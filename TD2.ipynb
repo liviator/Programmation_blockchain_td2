{
  "nbformat": 4,
  "nbformat_minor": 0,
  "metadata": {
    "colab": {
      "name": "TD2.ipynb",
      "provenance": [],
      "collapsed_sections": [],
      "include_colab_link": true
    },
    "kernelspec": {
      "name": "python3",
      "display_name": "Python 3"
    }
  },
  "cells": [
    {
      "cell_type": "markdown",
      "metadata": {
        "id": "view-in-github",
        "colab_type": "text"
      },
      "source": [
        "<a href=\"https://colab.research.google.com/github/liviator/Programmation_blockchain_td2/blob/main/TD2.ipynb\" target=\"_parent\"><img src=\"https://colab.research.google.com/assets/colab-badge.svg\" alt=\"Open In Colab\"/></a>"
      ]
    },
    {
      "cell_type": "code",
      "metadata": {
        "id": "1PamMk-FSLIZ"
      },
      "source": [
        "import secrets\r\n",
        "import hashlib"
      ],
      "execution_count": 18,
      "outputs": []
    },
    {
      "cell_type": "code",
      "metadata": {
        "id": "o0bJEQSeSDJF"
      },
      "source": [
        "def gen_entropy(difficulty = 128):\r\n",
        "  entropy = secrets.randbits(difficulty)\r\n",
        "  print(\"Random number :\")\r\n",
        "  print(entropy)\r\n",
        "  print(\" \")\r\n",
        "  return add_padding(entropy)"
      ],
      "execution_count": 19,
      "outputs": []
    },
    {
      "cell_type": "code",
      "metadata": {
        "id": "9WBI_GrpLxLg"
      },
      "source": [
        "def add_padding(entropy):\r\n",
        "  entropy_bits = format(entropy,'0128b')\r\n",
        "  print(\"Random number in binary :\")\r\n",
        "  print(entropy_bits)\r\n",
        "  print(\" \")\r\n",
        "  return entropy_bits"
      ],
      "execution_count": 20,
      "outputs": []
    },
    {
      "cell_type": "code",
      "metadata": {
        "id": "RTIG2H7LMb-Q"
      },
      "source": [
        "def gen_checksum(entropy):\r\n",
        "  encoded_entropy = entropy.encode()\r\n",
        "  hashed_entropy = hashlib.sha256(encoded_entropy)\r\n",
        "  output = hashed_entropy.hexdigest()\r\n",
        "  output = bin(int(output, 16))[2:]\r\n",
        "  print(\"Output of the hash in binary :\")\r\n",
        "  print(output)\r\n",
        "  print(\" \")\r\n",
        "  return output"
      ],
      "execution_count": 21,
      "outputs": []
    },
    {
      "cell_type": "code",
      "metadata": {
        "id": "koqJZLnYM_8k"
      },
      "source": [
        "def add_checksum_to_entropy(entropy):\r\n",
        "  entropy_bits_finale = entropy + gen_checksum(entropy)[:4]\r\n",
        "  print(\"Entropy + Checksum :\")\r\n",
        "  print(entropy_bits_finale + \"\\n\")\r\n",
        "  return entropy_bits_finale"
      ],
      "execution_count": 22,
      "outputs": []
    },
    {
      "cell_type": "code",
      "metadata": {
        "id": "lr-p-CVyQtqA"
      },
      "source": [
        "def get_words():\r\n",
        "  return open('/content/words.txt','r').read().splitlines()"
      ],
      "execution_count": 23,
      "outputs": []
    },
    {
      "cell_type": "code",
      "metadata": {
        "id": "meEOwKXV9SVY"
      },
      "source": [
        "def get_list_of_words(bag):\r\n",
        "    list_of_words = []\r\n",
        "    words = get_words()\r\n",
        "    for element in bag:\r\n",
        "        list_of_words.append(words[int(element,2)])\r\n",
        "    return list_of_words"
      ],
      "execution_count": 24,
      "outputs": []
    },
    {
      "cell_type": "code",
      "metadata": {
        "id": "TvcM6Qg5Ohr-"
      },
      "source": [
        "def split_entropy_bits_finale(entropy_bits_finale):\r\n",
        "  binary_seed_phrase = []\r\n",
        "  i= 0\r\n",
        "  while i < 132:\r\n",
        "      binary_seed_phrase.append(entropy_bits_finale[i:i+11])\r\n",
        "      i = i + 11\r\n",
        "  print(\"Splitted :\")\r\n",
        "  print(binary_seed_phrase)\r\n",
        "  print(\"\")\r\n",
        "  return binary_seed_phrase"
      ],
      "execution_count": 25,
      "outputs": []
    },
    {
      "cell_type": "code",
      "metadata": {
        "id": "bUOZAwbFOMRR"
      },
      "source": [
        "def gen_seed_phrase():\r\n",
        "  entropy = gen_entropy()\r\n",
        "  binary_seed_phrase = split_entropy_bits_finale(add_checksum_to_entropy(entropy))\r\n",
        "  seed_phrase = get_list_of_words(binary_seed_phrase)\r\n",
        "  print(\"list of words : \")\r\n",
        "  print(seed_phrase)\r\n",
        "  print(\"\")\r\n",
        "  return seed_phrase"
      ],
      "execution_count": 26,
      "outputs": []
    },
    {
      "cell_type": "code",
      "metadata": {
        "colab": {
          "base_uri": "https://localhost:8080/"
        },
        "id": "NxKgUmwkSUc5",
        "outputId": "5cff0fdc-6744-49d9-c7cd-ab74ee65e549"
      },
      "source": [
        "seed_phrase = gen_seed_phrase()"
      ],
      "execution_count": 27,
      "outputs": [
        {
          "output_type": "stream",
          "text": [
            "Random number :\n",
            "79737922502173410740343439778580075653\n",
            " \n",
            "Random number in binary :\n",
            "00111011111111001111011100011011100110111010110110100110101011101110111100001110100100100100100001011010010100010001010010000101\n",
            " \n",
            "Output of the hash in binary :\n",
            "1101001100101100111001100111011111010011101001011101001101011111111101101011001000100011101110000110101011001011100111000110111110001110111101101110110011000110010001111010001110110111001010100001010101000001111010101010110100111101000111101001011100000110\n",
            " \n",
            "Entropy + Checksum :\n",
            "001110111111110011110111000110111001101110101101101001101010111011101111000011101001001001001000010110100101000100010100100001011101\n",
            "\n",
            "Splitted :\n",
            "['00111011111', '11100111101', '11000110111', '00110111010', '11011010011', '01010111011', '10111100001', '11010010010', '01001000010', '11010010100', '01000101001', '00001011101']\n",
            "\n",
            "list of words : \n",
            "['desk', 'tray', 'shoulder', 'dance', 'surprise', 'first', 'rotate', 'spoil', 'embark', 'spoon', 'early', 'arm']\n",
            "\n"
          ],
          "name": "stdout"
        }
      ]
    }
  ]
}