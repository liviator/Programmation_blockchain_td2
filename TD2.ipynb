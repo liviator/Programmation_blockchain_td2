{
  "nbformat": 4,
  "nbformat_minor": 0,
  "metadata": {
    "colab": {
      "name": "TD2.ipynb",
      "provenance": [],
      "collapsed_sections": [],
      "include_colab_link": true
    },
    "kernelspec": {
      "name": "python3",
      "display_name": "Python 3"
    }
  },
  "cells": [
    {
      "cell_type": "markdown",
      "metadata": {
        "id": "view-in-github",
        "colab_type": "text"
      },
      "source": [
        "<a href=\"https://colab.research.google.com/github/liviator/Programmation_blockchain_td2/blob/main/TD2.ipynb\" target=\"_parent\"><img src=\"https://colab.research.google.com/assets/colab-badge.svg\" alt=\"Open In Colab\"/></a>"
      ]
    },
    {
      "cell_type": "code",
      "metadata": {
        "id": "1PamMk-FSLIZ"
      },
      "source": [
        "import secrets\r\n",
        "import hashlib\r\n",
        "import hmac\r\n",
        "import subprocess"
      ],
      "execution_count": null,
      "outputs": []
    },
    {
      "cell_type": "code",
      "metadata": {
        "id": "utnqBGZ7RcOb"
      },
      "source": [
        "def check_entropy():\r\n",
        "    words = []\r\n",
        "    print(\"Please type the words of your seed\")\r\n",
        "    for i in range(12):\r\n",
        "        word = input()\r\n",
        "        words.append(word)\r\n",
        "        if i == 0 and len(word.split()) == 12:\r\n",
        "          words = word.split()\r\n",
        "          break\r\n",
        "    entropy = check_format(words)\r\n",
        "    if entropy == -1:\r\n",
        "      print(\"The seed is not valid\")\r\n",
        "    else:\r\n",
        "      print(\"The entropy is \" + entropy)\r\n",
        "    print(\"\")\r\n",
        "    return entropy"
      ],
      "execution_count": null,
      "outputs": []
    },
    {
      "cell_type": "code",
      "metadata": {
        "id": "puOMA2gIReTK"
      },
      "source": [
        "def check_format(words):\r\n",
        "    response = -1\r\n",
        "    splitted = get_bag(words)\r\n",
        "    united = ''.join(splitted)\r\n",
        "    check_sum = united[len(united)-4:]\r\n",
        "    entropy = united[:len(united)-4]\r\n",
        "    if(len(entropy) == 128):       \r\n",
        "        encoded_entropy_bits = int(entropy,2).to_bytes(128 // 8, byteorder='big')\r\n",
        "        hashed_entropy = hashlib.sha256(encoded_entropy_bits)\r\n",
        "        output = hashed_entropy.hexdigest()\r\n",
        "        output = format(int(output,16),'0256b')\r\n",
        "        if(output[:4] == check_sum):\r\n",
        "            response = entropy\r\n",
        "    return response\r\n",
        " "
      ],
      "execution_count": null,
      "outputs": []
    },
    {
      "cell_type": "code",
      "metadata": {
        "id": "LRma0HliToTZ"
      },
      "source": [
        "def get_bag(words):\r\n",
        "    bag = []\r\n",
        "    list_of_words = get_words()\r\n",
        "    index = 0\r\n",
        "    for elem in words:\r\n",
        "        if( elem in list_of_words):\r\n",
        "            index = list_of_words.index(elem)\r\n",
        "            bag.append(format(index,'011b'))\r\n",
        "    return bag"
      ],
      "execution_count": null,
      "outputs": []
    },
    {
      "cell_type": "code",
      "metadata": {
        "id": "o0bJEQSeSDJF"
      },
      "source": [
        "def gen_entropy(size = 128):\r\n",
        "  entropy = secrets.randbits(size)\r\n",
        "  print(\"Random number :\")\r\n",
        "  print(entropy)\r\n",
        "  print(\" \")\r\n",
        "  return add_padding(entropy)"
      ],
      "execution_count": 121,
      "outputs": []
    },
    {
      "cell_type": "code",
      "metadata": {
        "id": "9WBI_GrpLxLg"
      },
      "source": [
        "def add_padding(entropy):\r\n",
        "  entropy_bits = format(entropy,'0128b')\r\n",
        "  print(\"Random number in binary :\")\r\n",
        "  print(entropy_bits)\r\n",
        "  print(\" \")\r\n",
        "  return entropy_bits"
      ],
      "execution_count": null,
      "outputs": []
    },
    {
      "cell_type": "code",
      "metadata": {
        "id": "RTIG2H7LMb-Q"
      },
      "source": [
        "def gen_checksum(entropy_bits):\r\n",
        "  encoded_entropy_bits = int(entropy_bits,2).to_bytes(128 // 8, byteorder='big')\r\n",
        "  hashed_entropy = hashlib.sha256(encoded_entropy_bits)\r\n",
        "  output = hashed_entropy.hexdigest()\r\n",
        "  output = format(int(output,16),'0256b')\r\n",
        "  print(\"Output of the hash in binary :\")\r\n",
        "  print(output)\r\n",
        "  print(\" \")\r\n",
        "  return output"
      ],
      "execution_count": null,
      "outputs": []
    },
    {
      "cell_type": "code",
      "metadata": {
        "id": "koqJZLnYM_8k"
      },
      "source": [
        "def add_checksum_to_entropy(entropy):\r\n",
        "  entropy_bits_finale = entropy + gen_checksum(entropy)[:4]\r\n",
        "  print(\"Entropy + Checksum :\")\r\n",
        "  print(entropy_bits_finale + \"\\n\")\r\n",
        "  return entropy_bits_finale"
      ],
      "execution_count": null,
      "outputs": []
    },
    {
      "cell_type": "code",
      "metadata": {
        "id": "lr-p-CVyQtqA"
      },
      "source": [
        "def get_words():\r\n",
        "  return open('/content/words.txt','r').read().splitlines()"
      ],
      "execution_count": null,
      "outputs": []
    },
    {
      "cell_type": "code",
      "metadata": {
        "id": "meEOwKXV9SVY"
      },
      "source": [
        "def get_list_of_words(bag):\r\n",
        "  list_of_words = []\r\n",
        "  words = get_words()\r\n",
        "  for element in bag:\r\n",
        "    list_of_words.append(words[int(element,2)])\r\n",
        "  return list_of_words"
      ],
      "execution_count": null,
      "outputs": []
    },
    {
      "cell_type": "code",
      "metadata": {
        "id": "TvcM6Qg5Ohr-"
      },
      "source": [
        "def split_entropy_bits_finale(entropy_bits_finale):\r\n",
        "  binary_seed_phrase = []\r\n",
        "  i= 0\r\n",
        "  while i < 132:\r\n",
        "      binary_seed_phrase.append(entropy_bits_finale[i:i+11])\r\n",
        "      i = i + 11\r\n",
        "  print(\"Splitted :\")\r\n",
        "  print(binary_seed_phrase)\r\n",
        "  print(\"\")\r\n",
        "  return binary_seed_phrase"
      ],
      "execution_count": null,
      "outputs": []
    },
    {
      "cell_type": "code",
      "metadata": {
        "id": "dZK29fv8x8pQ"
      },
      "source": [
        "def gen_root_seed(seed_phrase):\r\n",
        "  seed_phrase_bytes = seed_phrase.encode(\"utf-8\")\r\n",
        "  salt = \"mnemonic\".encode(\"utf-8\")\r\n",
        "  root_seed = hashlib.pbkdf2_hmac(\r\n",
        "      \"sha512\", seed_phrase_bytes, salt, 2048\r\n",
        "  )\r\n",
        "  print(\"Root seed :\")\r\n",
        "  print(root_seed.hex())\r\n",
        "  print(\"\")\r\n",
        "  return root_seed"
      ],
      "execution_count": null,
      "outputs": []
    },
    {
      "cell_type": "code",
      "metadata": {
        "id": "hsL1ehjuU8K6"
      },
      "source": [
        "def hmac_sha512(root_seed):\r\n",
        "  hashed_root_seed = hmac.new(b\"Bitcoin seed\", root_seed, digestmod = hashlib.sha512).hexdigest()\r\n",
        "  # hashed_root_seed = format(int(hashed_root_seed,16),'0256b')\r\n",
        "  print(\"Output of the master private key in binary :\")\r\n",
        "  print(hashed_root_seed[:64])\r\n",
        "  print(\"Output of the master chain code in binary :\")\r\n",
        "  print(hashed_root_seed[64:])\r\n",
        "  print(\" \")\r\n",
        "  return hashed_root_seed[:64], hashed_root_seed[64:]"
      ],
      "execution_count": null,
      "outputs": []
    },
    {
      "cell_type": "code",
      "metadata": {
        "id": "bUOZAwbFOMRR"
      },
      "source": [
        "def gen_seed_phrase(entropy):\r\n",
        "  binary_seed_phrase = split_entropy_bits_finale(add_checksum_to_entropy(entropy))\r\n",
        "  seed_phrase = get_list_of_words(binary_seed_phrase)\r\n",
        "  seed_phrase = \" \".join(seed_phrase)\r\n",
        "  print(\"list of words : \")\r\n",
        "  print(seed_phrase)\r\n",
        "  print(\"\")\r\n",
        "  return seed_phrase"
      ],
      "execution_count": null,
      "outputs": []
    },
    {
      "cell_type": "code",
      "metadata": {
        "id": "k_7GoZh6dh3n"
      },
      "source": [
        "def gen_child_pubkey(parent_key, parent_chain_code, index = None):\r\n",
        "  index_binary = \"\"\r\n",
        "  if index:\r\n",
        "    index_binary = format(index,'032b')\r\n",
        "  else:\r\n",
        "    index_binary = format(secrets.randbits(32),'032b')\r\n",
        "  elements = parent_key + parent_chain_code + index_binary\r\n",
        "  elements = elements.encode(\"utf-8\")\r\n",
        "  hashed_root_seed = hmac.new(b\"Bitcoin seed\", elements, digestmod = hashlib.sha512).hexdigest()\r\n",
        "  print(hashed_root_seed)\r\n",
        "  print(\"Output of the children private key in binary :\")\r\n",
        "  print(hashed_root_seed[:64])\r\n",
        "  print(\"Output of the children chain code in binary :\")\r\n",
        "  print(hashed_root_seed[64:])\r\n",
        "  print(\" \")\r\n",
        "  return hashed_root_seed[:64], hashed_root_seed[64:]\r\n"
      ],
      "execution_count": 125,
      "outputs": []
    },
    {
      "cell_type": "code",
      "metadata": {
        "id": "jLdqGXCXdjvg"
      },
      "source": [
        "def gen_children(parent_key, parent_chain_code, deriv, index = None):\r\n",
        "  if index:\r\n",
        "    index_binary = format(index,'032b')\r\n",
        "  else:\r\n",
        "    index_binary = format(secrets.randbits(32),'032b')\r\n",
        "  index_binary = format(index,'032b')\r\n",
        "  elements = parent_key + parent_chain_code + index_binary\r\n",
        "  elements = elements.encode(\"utf-8\")\r\n",
        "  hashed_root_seed = hmac.new(b\"Bitcoin seed\", elements, digestmod = hashlib.sha512).hexdigest()\r\n",
        "  key = hashed_root_seed[:64]\r\n",
        "  code = hashed_root_seed[64:]\r\n",
        "  while deriv > 0:\r\n",
        "    deriv = deriv-1\r\n",
        "    print('plus que ',deriv,'itération avant d atteindre la clé associé a la derrivation voulue')\r\n",
        "    return(gen_children(format(int(key,16),'0256b'),format(int(code,16),'0256b'),deriv,index))\r\n",
        "  print('l index de la clé est ', index)\r\n",
        "  return(key,code)"
      ],
      "execution_count": 126,
      "outputs": []
    },
    {
      "cell_type": "code",
      "metadata": {
        "colab": {
          "base_uri": "https://localhost:8080/"
        },
        "id": "NxKgUmwkSUc5",
        "outputId": "fc2827a9-7099-46fd-8f01-a3a93c8c7d79"
      },
      "source": [
        "def main():\r\n",
        "  entropy = gen_entropy()\r\n",
        "  seed_phrase = gen_seed_phrase(entropy)\r\n",
        "  check_entropy()\r\n",
        "\r\n",
        "  master_private_key, master_chain_code = hmac_sha512(gen_root_seed(seed_phrase))\r\n",
        "  binary_master_private_key = format(int(master_private_key,16),'0256b')\r\n",
        "  binary_master_chain_code = format(int(master_chain_code,16),'0256b')\r\n",
        "\r\n",
        "  child_private_key, child_chain_code = gen_child_pubkey(binary_master_private_key, binary_master_chain_code)\r\n",
        "  print('A child private key is', child_private_key, end = '\\n\\n')\r\n",
        "\r\n",
        "  index = int(input('Please choose an integer between 0 and 4294967295 to generate a children : '))\r\n",
        "  child_private_key, child_chain_code = gen_child_pubkey(binary_master_private_key, binary_master_chain_code, index)\r\n",
        "  print('The child private key of index', index, 'is', child_private_key, end = '\\n\\n')\r\n",
        "\r\n",
        "  binary_master_private_key = format(int(master_private_key,16),'0256b')\r\n",
        "  binary_master_chain_code = format(int(master_chain_code,16),'0256b')\r\n",
        "  index = int(input('Please choose an integer between 0 and 4294967295 to generate a children : '))\r\n",
        "  deriv = int(input('Please choose an integer for the level of derivation : '))\r\n",
        "  child_private_key, child_chain_code = gen_children(binary_master_private_key, binary_master_chain_code, deriv, index)\r\n",
        "  print('The child private key of index', index, 'and derivation', deriv, 'is', child_private_key, end = '\\n\\n')\r\n",
        "\r\n",
        "main()"
      ],
      "execution_count": 130,
      "outputs": [
        {
          "output_type": "stream",
          "text": [
            "Random number :\n",
            "141626152713392348490245355266645552794\n",
            " \n",
            "Random number in binary :\n",
            "01101010100011000011010001110000100001001111000010000110011111011100000011110001000011010000010001011111000101011110111010011010\n",
            " \n",
            "Output of the hash in binary :\n",
            "1000000110111010100011101111011101100010011111110001110011000010100010011101101001101001100111110001010010000110001011111011001110100110010111001111111000001000110010010001101111010110000110100001100011000110100100110011110101001101001000010110000011100100\n",
            " \n",
            "Entropy + Checksum :\n",
            "011010101000110000110100011100001000010011110000100001100111110111000000111100010000110100000100010111110001010111101110100110101000\n",
            "\n",
            "Splitted :\n",
            "['01101010100', '01100001101', '00011100001', '00001001111', '00001000011', '00111110111', '00000011110', '00100001101', '00000100010', '11111000101', '01111011101', '00110101000']\n",
            "\n",
            "list of words : \n",
            "hedgehog giant bring antique anchor discover adult canvas affair weather knife crush\n",
            "\n",
            "Please type the words of your seed\n",
            "hedgehog giant bring antique anchor discover adult canvas affair weather knife crush\n",
            "1000000110111010100011101111011101100010011111110001110011000010100010011101101001101001100111110001010010000110001011111011001110100110010111001111111000001000110010010001101111010110000110100001100011000110100100110011110101001101001000010110000011100100\n",
            "The checksum is the same, the seed is valid\n",
            "The entropy is 01101010100011000011010001110000100001001111000010000110011111011100000011110001000011010000010001011111000101011110111010011010\n",
            "\n",
            "Root seed :\n",
            "0b2aa8e622945af0a76564c6039bc835f26a87aef36f45e25c968652b47d0b4dd1ebd0ec369bdeddb36eceffe062add560c042e7e29d7530ee832cf2541ae382\n",
            "\n",
            "Output of the master private key in binary :\n",
            "1661aa0a3b6f71dab65d91d7f902a598ad97180d9aa5de08c1138882cfdd839c\n",
            "Output of the master chain code in binary :\n",
            "dacb4f9bcd083aaf347bc199c05984de2efde8e510070d48ff9616dd3270b6ec\n",
            " \n",
            "0667716c75c94909681f38fb0bdb7c7852ee142e6e0c7dc8f6e79b088a7bc6f0e27bef7c8b44a77fb0926f9fc14dcbbc7c5962a4a36220532235e767adabcba8\n",
            "Output of the children private key in binary :\n",
            "0667716c75c94909681f38fb0bdb7c7852ee142e6e0c7dc8f6e79b088a7bc6f0\n",
            "Output of the children chain code in binary :\n",
            "e27bef7c8b44a77fb0926f9fc14dcbbc7c5962a4a36220532235e767adabcba8\n",
            " \n",
            "A child private key is 0667716c75c94909681f38fb0bdb7c7852ee142e6e0c7dc8f6e79b088a7bc6f0\n",
            "\n",
            "Please choose an integer between 0 and 4294967295 to generate a children : 2\n",
            "da887f20a271ba129e664b2884c6afcbd886563746a7decf85d6741ddee281fe5220b096c8614cf1d28b72580b17b04b332b3e84a86476b34d703f7d518b5d77\n",
            "Output of the children private key in binary :\n",
            "da887f20a271ba129e664b2884c6afcbd886563746a7decf85d6741ddee281fe\n",
            "Output of the children chain code in binary :\n",
            "5220b096c8614cf1d28b72580b17b04b332b3e84a86476b34d703f7d518b5d77\n",
            " \n",
            "The child private key of index 2  is da887f20a271ba129e664b2884c6afcbd886563746a7decf85d6741ddee281fe\n",
            "\n",
            "Please choose an integer between 0 and 4294967295 to generate a children : 2\n",
            "Please choose an integer for the level of derivation : 2\n",
            "plus que  1 itération avant d atteindre la clé associé a la derrivation voulue\n",
            "plus que  0 itération avant d atteindre la clé associé a la derrivation voulue\n",
            "l index de la clé est  2\n",
            "The child private key of index 2  and derivation 2  is 0ea08b24d31d49127d9f1459237f1fdb527163f3d0e7aad99828ed962cdea9e1\n",
            "\n"
          ],
          "name": "stdout"
        }
      ]
    }
  ]
}