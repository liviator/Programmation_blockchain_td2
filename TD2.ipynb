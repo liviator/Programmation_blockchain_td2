{
  "nbformat": 4,
  "nbformat_minor": 0,
  "metadata": {
    "colab": {
      "name": "TD2.ipynb",
      "provenance": [],
      "collapsed_sections": [],
      "include_colab_link": true
    },
    "kernelspec": {
      "name": "python3",
      "display_name": "Python 3"
    }
  },
  "cells": [
    {
      "cell_type": "markdown",
      "metadata": {
        "id": "view-in-github",
        "colab_type": "text"
      },
      "source": [
        "<a href=\"https://colab.research.google.com/github/liviator/Programmation_blockchain_td2/blob/main/TD2.ipynb\" target=\"_parent\"><img src=\"https://colab.research.google.com/assets/colab-badge.svg\" alt=\"Open In Colab\"/></a>"
      ]
    },
    {
      "cell_type": "code",
      "metadata": {
        "id": "o1DrOhAyHs_p"
      },
      "source": [
        "import secrets\r\n",
        "import hashlib\r\n",
        "import binascii\r\n",
        "\r\n",
        "def gen_binary_seed():\r\n",
        "  entropy = secrets.randbits(128)\r\n",
        "  entropy_bits = format(entropy,'0128b')\r\n",
        "  encoded_entropy_bits = entropy_bits.encode()\r\n",
        "  hashed_entropy = hashlib.sha256(encoded_entropy_bits)\r\n",
        "  output = hashed_entropy.hexdigest()\r\n",
        "  output = bin(int(output, 16))[2:]\r\n",
        "  entropy_bits_finale = entropy_bits + output[:4]\r\n",
        "  return entropy_bits_finale\r\n",
        "\r\n",
        "def split_to_12word():\r\n",
        "  entropy_bits_finale = gen_binary_seed()\r\n",
        "  binary_word_list = []\r\n",
        "  i= 0\r\n",
        "  while(i < 132):\r\n",
        "      binary_word_list.append(entropy_bits_finale[i:i+11])\r\n",
        "      i = i + 11\r\n",
        "  return binary_word_list\r\n",
        "\r\n",
        "def get_words():\r\n",
        "  return open('/content/words.txt','r').read().splitlines()"
      ],
      "execution_count": null,
      "outputs": []
    },
    {
      "cell_type": "code",
      "metadata": {
        "id": "hV2XTBGV9Of_"
      },
      "source": [
        "entropy = secrets.randbits(128)\r\n",
        "print(\"Random number :\")\r\n",
        "print(entropy)\r\n",
        "print(\" \")\r\n",
        "entropy_bits = format(entropy,'0128b')\r\n",
        "print(\"Random number in binary :\")\r\n",
        "print(entropy_bits)\r\n",
        "print(\" \")\r\n",
        "encoded_entropy_bits = entropy_bits.encode()\r\n",
        "hashed_entropy = hashlib.sha256(encoded_entropy_bits)\r\n",
        "output = hashed_entropy.hexdigest()\r\n",
        "output = bin(int(output, 16))[2:]\r\n",
        "print(\"Output of the hash in binary :\")\r\n",
        "print(output)\r\n",
        "print(\" \")\r\n",
        "entropy_bits_finale = entropy_bits + output[:4]\r\n",
        "print(\"Entropy + Checksum :\")\r\n",
        "print(entropy_bits_finale + \"\\n\")\r\n",
        "bag_of_bits = []\r\n",
        "i= 0\r\n",
        "while(i < 132):\r\n",
        "    bag_of_bits.append(entropy_bits_finale[i:i+11])\r\n",
        "    i = i + 11\r\n",
        "print(\"Splitted :\")\r\n",
        "print(bag_of_bits)\r\n",
        "print(\"\")\r\n",
        "print(\"list of words : \")\r\n",
        "print(get_list_of_words(bag_of_bits))"
      ],
      "execution_count": null,
      "outputs": []
    },
    {
      "cell_type": "code",
      "metadata": {
        "id": "meEOwKXV9SVY"
      },
      "source": [
        "def get_list_of_words(bag):\r\n",
        "    list_of_words = []\r\n",
        "    words = get_words()\r\n",
        "    for element in bag:\r\n",
        "        list_of_words.append(words[int(element,2)])\r\n",
        "    return list_of_words\r\n",
        "        \r\n",
        "    "
      ],
      "execution_count": null,
      "outputs": []
    }
  ]
}